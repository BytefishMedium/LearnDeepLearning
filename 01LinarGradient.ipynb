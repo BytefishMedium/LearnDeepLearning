{
 "cells": [
  {
   "attachments": {},
   "cell_type": "markdown",
   "id": "a3222958",
   "metadata": {},
   "source": [
    "随机生成一个w、b，以及对应的数据集，然后使用线性回归、梯度下降来求解出w、b\n",
    "\n",
    "教程：[龙良曲PyTorch](https://www.bilibili.com/video/BV1fT4y1d7av?p=5&vd_source=4b31946931a7c038ee64bc9619104ec0)"
   ]
  },
  {
   "cell_type": "code",
   "execution_count": 6,
   "metadata": {},
   "outputs": [],
   "source": [
    "import numpy as np\n",
    "import matplotlib.pyplot as plt"
   ]
  },
  {
   "cell_type": "code",
   "execution_count": 13,
   "id": "cb3397ae",
   "metadata": {},
   "outputs": [
    {
     "name": "stdout",
     "output_type": "stream",
     "text": [
      "[[0.69677035]\n",
      " [0.50047037]\n",
      " [0.86925498]\n",
      " [0.18440071]\n",
      " [0.89303743]]\n",
      "[[28.94757905]\n",
      " [24.81959886]\n",
      " [32.28042113]\n",
      " [18.09913628]\n",
      " [32.80636646]]\n"
     ]
    },
    {
     "data": {
      "text/plain": [
       "<matplotlib.collections.PathCollection at 0x11fea0a30>"
      ]
     },
     "execution_count": 13,
     "metadata": {},
     "output_type": "execute_result"
    },
    {
     "data": {
      "image/png": "[encoded data removed]",
      "text/plain": [
       "<Figure size 640x480 with 1 Axes>"
      ]
     },
     "metadata": {},
     "output_type": "display_data"
    }
   ],
   "source": [
    "# get linear data with random noise\n",
    "\n",
    "# w: weight, b: bias, num_data: number of data, noise: noise weight\n",
    "def get_linear_data(w, b, num_data, noise):\n",
    "    x = np.random.rand(num_data, 1) # 0~1 random number with shape (num_data, 1)\n",
    "    y = w * x + b + noise * np.random.randn(num_data, 1)\n",
    "    return x, y\n",
    "\n",
    "w = 21\n",
    "b = 14\n",
    "num_data = 100\n",
    "noise = 0.3\n",
    "x_train, y_train = get_linear_data(w, b, num_data, noise)\n",
    "\n",
    "# show data\n",
    "print(x_train[:5])\n",
    "print(y_train[:5])\n",
    "plt.scatter(x_train, y_train, s=10)"
   ]
  },
  {
   "cell_type": "markdown",
   "id": "8d8b68c1",
   "metadata": {},
   "source": []
  },
  {
   "cell_type": "code",
   "execution_count": 14,
   "id": "5d1dbac5",
   "metadata": {},
   "outputs": [],
   "source": [
    "# 线性回归的损失函数\n",
    "def loss(y, y_hat):\n",
    "    return np.mean(np.square(y - y_hat))"
   ]
  },
  {
   "cell_type": "code",
   "execution_count": 15,
   "id": "c5bcbd11",
   "metadata": {},
   "outputs": [],
   "source": [
    "# 线性回归的梯度函数\n",
    "# 对w、b求偏导，得到梯度\n",
    "def gradient(x, y, y_hat):\n",
    "    dw = np.mean((y_hat - y) * x)\n",
    "    db = np.mean(y_hat - y)\n",
    "    return dw, db"
   ]
  },
  {
   "cell_type": "code",
   "execution_count": 19,
   "id": "de872a1b",
   "metadata": {},
   "outputs": [],
   "source": [
    "# 线性回归的训练函数\n",
    "def train(x, y, learning_rate, epochs):\n",
    "    w = np.random.randn(1)\n",
    "    b = np.random.randn(1)\n",
    "    for i in range(epochs):\n",
    "        y_hat = w * x + b # 求y的预测值\n",
    "        loss_value = loss(y, y_hat) # 求损失\n",
    "        dw, db = gradient(x, y, y_hat) # 求梯度\n",
    "\n",
    "        # 梯度下降法更新参数\n",
    "        w -= learning_rate * dw\n",
    "        b -= learning_rate * db\n",
    "\n",
    "        # 打印训练过程\n",
    "        if i % 100 == 0:\n",
    "            print(\"Epochs %d, loss %f\" % (i, loss_value))\n",
    "            print(\"w: %f, b: %f\" % (w, b))\n",
    "    return w, b"
   ]
  },
  {
   "cell_type": "code",
   "execution_count": 20,
   "id": "e53d01cd",
   "metadata": {},
   "outputs": [
    {
     "name": "stdout",
     "output_type": "stream",
     "text": [
      "Epochs 0, loss 611.462313\n",
      "w: -0.173440, b: 3.474762\n",
      "Epochs 100, loss 3.524998\n",
      "w: 15.072273, b: 17.120063\n",
      "Epochs 200, loss 0.898429\n",
      "w: 18.206074, b: 15.496728\n",
      "Epochs 300, loss 0.277853\n",
      "w: 19.729328, b: 14.707652\n",
      "Epochs 400, loss 0.131230\n",
      "w: 20.469743, b: 14.324103\n",
      "Epochs 500, loss 0.096588\n",
      "w: 20.829640, b: 14.137669\n",
      "Epochs 600, loss 0.088403\n",
      "w: 21.004577, b: 14.047049\n",
      "Epochs 700, loss 0.086469\n",
      "w: 21.089609, b: 14.003000\n",
      "Epochs 800, loss 0.086013\n",
      "w: 21.130941, b: 13.981589\n",
      "Epochs 900, loss 0.085905\n",
      "w: 21.151032, b: 13.971182\n",
      "w_pridict: 21.160730, b_pridict: 13.966158\n"
     ]
    }
   ],
   "source": [
    "w_pridict, b_pridict = train(x_train, y_train, 0.1, 1000)\n",
    "print(\"w_pridict: %f, b_pridict: %f\" % (w_pridict, b_pridict))"
   ]
  },
  {
   "cell_type": "code",
   "execution_count": null,
   "id": "56e1da92",
   "metadata": {},
   "outputs": [],
   "source": []
  }
 ],
 "metadata": {
  "kernelspec": {
   "display_name": "Python 3",
   "language": "python",
   "name": "python3"
  },
  "language_info": {
   "codemirror_mode": {
    "name": "ipython",
    "version": 3
   },
   "file_extension": ".py",
   "mimetype": "text/x-python",
   "name": "python",
   "nbconvert_exporter": "python",
   "pygments_lexer": "ipython3",
   "version": "3.9.6"
  }
 },
 "nbformat": 4,
 "nbformat_minor": 5
}
